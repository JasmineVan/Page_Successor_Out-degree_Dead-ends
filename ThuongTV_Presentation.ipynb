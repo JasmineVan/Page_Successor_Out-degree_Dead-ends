{
  "nbformat": 4,
  "nbformat_minor": 0,
  "metadata": {
    "colab": {
      "provenance": [],
      "authorship_tag": "ABX9TyNVRE/4vq3JEOmhVyy9nmyo",
      "include_colab_link": true
    },
    "kernelspec": {
      "name": "python3",
      "display_name": "Python 3"
    },
    "language_info": {
      "name": "python"
    }
  },
  "cells": [
    {
      "cell_type": "markdown",
      "metadata": {
        "id": "view-in-github",
        "colab_type": "text"
      },
      "source": [
        "<a href=\"https://colab.research.google.com/github/JasmineVan/Page_Successor_Out-degree_Dead-ends/blob/main/ThuongTV_Presentation.ipynb\" target=\"_parent\"><img src=\"https://colab.research.google.com/assets/colab-badge.svg\" alt=\"Open In Colab\"/></a>"
      ]
    },
    {
      "cell_type": "markdown",
      "source": [
        "**Big Data Processing**\\\n",
        "Thuong Trinh\\\n",
        "51800128\n",
        "\n",
        "\n",
        "---\n",
        "\n"
      ],
      "metadata": {
        "id": "NV80vvtOK8pG"
      }
    },
    {
      "cell_type": "markdown",
      "source": [
        "#1. Installation:"
      ],
      "metadata": {
        "id": "nzzEm413KP_V"
      }
    },
    {
      "cell_type": "code",
      "execution_count": 1,
      "metadata": {
        "id": "lm4Ipt--h8O3"
      },
      "outputs": [],
      "source": [
        "!apt-get install openjdk-8-jdk-headless -qq > /dev/null\n",
        "!wget -q http://archive.apache.org/dist/spark/spark-3.1.1/spark-3.1.1-bin-hadoop3.2.tgz\n",
        "!tar xf spark-3.1.1-bin-hadoop3.2.tgz\n",
        "!pip install -q findspark"
      ]
    },
    {
      "cell_type": "code",
      "source": [
        "import os\n",
        "os.environ[\"JAVA_HOME\"] = \"/usr/lib/jvm/java-8-openjdk-amd64\"\n",
        "os.environ[\"SPARK_HOME\"] = \"/content/spark-3.1.1-bin-hadoop3.2\"\n",
        "\n",
        "import findspark\n",
        "findspark.init()"
      ],
      "metadata": {
        "id": "jqoxzHUriX7a"
      },
      "execution_count": 2,
      "outputs": []
    },
    {
      "cell_type": "code",
      "source": [
        "from pyspark.sql import SparkSession\n",
        "spark = SparkSession.builder.appName('Presentation').getOrCreate()\n",
        "\n",
        "# Creates Empty RDD\n",
        "emptyRDD = spark.sparkContext.emptyRDD()\n",
        "print(emptyRDD)"
      ],
      "metadata": {
        "id": "FI_8AnmjiTDt",
        "colab": {
          "base_uri": "https://localhost:8080/",
          "height": 0
        },
        "outputId": "f2b32fa9-096c-4361-d266-dde51523b202"
      },
      "execution_count": 3,
      "outputs": [
        {
          "output_type": "stream",
          "name": "stdout",
          "text": [
            "EmptyRDD[0] at emptyRDD at NativeMethodAccessorImpl.java:0\n"
          ]
        }
      ]
    },
    {
      "cell_type": "code",
      "source": [
        "from pyspark.sql.types import StructType,StructField, StringType\n",
        "# Declare 2 Columns Page and Successor\n",
        "schema = StructType([\n",
        "  StructField('Page', StringType(), True),\n",
        "  StructField('Successor', StringType(), True),\n",
        "  StructField('Out-degree', StringType(), True),\n",
        "  StructField('Dead-ends', StringType(), True)\n",
        "  ])"
      ],
      "metadata": {
        "id": "7BAV5GsyKwz8"
      },
      "execution_count": 57,
      "outputs": []
    },
    {
      "cell_type": "code",
      "source": [
        "# Create new Dataframe with empty RDD\n",
        "df = spark.createDataFrame(emptyRDD,schema)\n",
        "df.printSchema()"
      ],
      "metadata": {
        "colab": {
          "base_uri": "https://localhost:8080/",
          "height": 0
        },
        "id": "P7ahAah-K2tk",
        "outputId": "e34e7803-a2d9-4a13-b4d5-7f765ff17e74"
      },
      "execution_count": 58,
      "outputs": [
        {
          "output_type": "stream",
          "name": "stdout",
          "text": [
            "root\n",
            " |-- Page: string (nullable = true)\n",
            " |-- Successor: string (nullable = true)\n",
            " |-- Out-degree: string (nullable = true)\n",
            " |-- Dead-ends: string (nullable = true)\n",
            "\n"
          ]
        }
      ]
    },
    {
      "cell_type": "markdown",
      "source": [
        "#2. Implementation:"
      ],
      "metadata": {
        "id": "0dnCBxC6YzP2"
      }
    },
    {
      "cell_type": "code",
      "source": [
        "from bs4 import BeautifulSoup\n",
        "import urllib.request\n",
        "import urllib.parse"
      ],
      "metadata": {
        "id": "jFsI6Hytio7L"
      },
      "execution_count": 9,
      "outputs": []
    },
    {
      "cell_type": "code",
      "source": [
        "url =  'https://tdtu.edu.vn/'\n",
        "page = urllib.request.urlopen(url)\n",
        "soup = BeautifulSoup(page, 'html.parser')"
      ],
      "metadata": {
        "id": "7orjnjHJirvk"
      },
      "execution_count": 59,
      "outputs": []
    },
    {
      "cell_type": "code",
      "source": [
        "def FindPageSuccessor(SourceURL, limit, dataframe):\n",
        "  '''\n",
        "  Function Objective:\n",
        "  - Variables in function:\n",
        "  # childs - childs url of current url\n",
        "  # count - counting out-degree of current url\n",
        "  # DomainName - the same domain in (a) and (b) \n",
        "  '''\n",
        "  # Soup variables\n",
        "  page = urllib.request.urlopen(SourceURL)\n",
        "  soup = BeautifulSoup(page, 'html.parser')\n",
        "  childs = []\n",
        "  count = 0\n",
        "  columns = ['page', 'successor', 'out-degree', 'dead-ends']\n",
        "  DomainName = urllib.parse.urlsplit(SourceURL).hostname\n",
        "  if dataframe.count() == limit:\n",
        "    return dataframe\n",
        "  else:\n",
        "    for row in soup.find_all(['a', 'link']):\n",
        "      url = str(row.get('href'))\n",
        "      if 'http' and DomainName in url:\n",
        "        childs.append(url)\n",
        "        # Calculate out-degree and dead-ends of qualified url\n",
        "        count = CalculateOutDegree(url)\n",
        "        if dataframe.count() == limit:\n",
        "          return dataframe\n",
        "        else:\n",
        "          temp = []\n",
        "          temp.append(SourceURL)\n",
        "          temp.append(url)\n",
        "          temp.append(count)\n",
        "          if count == 0:\n",
        "            temp.append(1)\n",
        "          else:\n",
        "            temp.append(0)\n",
        "          newRow = spark.createDataFrame([tuple(temp)], columns)\n",
        "          dataframe = dataframe.union(newRow)\n",
        "    for child in childs:\n",
        "      # Recursive in current URL\n",
        "      FindPageSuccessor(child, limit, dataframe)"
      ],
      "metadata": {
        "id": "pos4llslLYIR"
      },
      "execution_count": 66,
      "outputs": []
    },
    {
      "cell_type": "code",
      "source": [
        "def CalculateOutDegree(SourceURL):\n",
        "  count = 0\n",
        "  '''\n",
        "  Function Objective:\n",
        "  - Variables in function:\n",
        "  # count - counting out-degree of current url\n",
        "  '''\n",
        "  # Soup variables\n",
        "  page = urllib.request.urlopen(SourceURL)\n",
        "  soup = BeautifulSoup(page, 'html.parser')\n",
        "  for row in soup.find_all(['a', 'link']):\n",
        "    url = str(row.get('href'))\n",
        "    if 'http' in url:\n",
        "      count += 1\n",
        "  return count"
      ],
      "metadata": {
        "id": "KCYbbRm2YMzJ"
      },
      "execution_count": 67,
      "outputs": []
    },
    {
      "cell_type": "code",
      "source": [
        "limit = 20\n",
        "df2 = FindPageSuccessor(url, limit, df)"
      ],
      "metadata": {
        "id": "ANqMGrQpLuxj"
      },
      "execution_count": 71,
      "outputs": []
    },
    {
      "cell_type": "code",
      "source": [
        "df2.show(limit)"
      ],
      "metadata": {
        "colab": {
          "base_uri": "https://localhost:8080/",
          "height": 0
        },
        "id": "JZEEOCBwP_59",
        "outputId": "98d6636e-df71-4a4b-93a3-b1c535a820c2"
      },
      "execution_count": 72,
      "outputs": [
        {
          "output_type": "stream",
          "name": "stdout",
          "text": [
            "+--------------------+--------------------+----------+---------+\n",
            "|                Page|           Successor|Out-degree|Dead-ends|\n",
            "+--------------------+--------------------+----------+---------+\n",
            "|https://tdtu.edu.vn/|https://tdtu.edu.vn/|        64|        0|\n",
            "|https://tdtu.edu.vn/|https://tdtu.edu.vn/|        64|        0|\n",
            "|https://tdtu.edu.vn/|https://tdtu.edu....|        64|        0|\n",
            "|https://tdtu.edu.vn/|https://tdtu.edu.vn/|        64|        0|\n",
            "|https://tdtu.edu.vn/|https://tdtu.edu....|        64|        0|\n",
            "|https://tdtu.edu.vn/|https://college.t...|        15|        0|\n",
            "|https://tdtu.edu.vn/|https://vfis.tdtu...|        35|        0|\n",
            "|https://tdtu.edu.vn/|http://it.tdtu.ed...|        20|        0|\n",
            "|https://tdtu.edu.vn/|http://pharmacy.t...|        12|        0|\n",
            "|https://tdtu.edu.vn/|http://feee.tdtu....|         6|        0|\n",
            "|https://tdtu.edu.vn/|http://aaf.tdtu.e...|        10|        0|\n",
            "|https://tdtu.edu.vn/|http://fss.tdtu.e...|       186|        0|\n",
            "|https://tdtu.edu.vn/|https://fas.tdtu....|        10|        0|\n",
            "|https://tdtu.edu.vn/|http://ssh.tdtu.e...|         8|        0|\n",
            "|https://tdtu.edu.vn/|http://civil.tdtu...|         7|        0|\n",
            "|https://tdtu.edu.vn/|http://laborrelat...|        10|        0|\n",
            "|https://tdtu.edu.vn/|http://law.tdtu.e...|         9|        0|\n",
            "|https://tdtu.edu.vn/|http://enlabsafe....|        11|        0|\n",
            "|https://tdtu.edu.vn/|http://ifa.tdtu.e...|        13|        0|\n",
            "|https://tdtu.edu.vn/|http://ffl.tdtu.e...|        16|        0|\n",
            "+--------------------+--------------------+----------+---------+\n",
            "\n"
          ]
        }
      ]
    }
  ]
}